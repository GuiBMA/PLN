{
 "cells": [
  {
   "cell_type": "markdown",
   "id": "76e869ab",
   "metadata": {},
   "source": [
    "# AC\n",
    "\n",
    "Este notebook implementa um pipeline completo de **Análise de Sentimentos** para o corpus **B2W‑Reviews01**.\n",
    "O objetivo é classificar avaliações em três categorias: \n",
    "- **positiva**\n",
    "- **negativa**\n",
    "- **neutra**"
   ]
  },
  {
   "cell_type": "markdown",
   "id": "b16a67a7",
   "metadata": {},
   "source": [
    "## Imports"
   ]
  },
  {
   "cell_type": "code",
   "execution_count": null,
   "id": "2215eccf",
   "metadata": {
    "vscode": {
     "languageId": "plaintext"
    }
   },
   "outputs": [],
   "source": [
    "import pandas as pd\n",
    "import numpy as np\n",
    "import re, string, html\n",
    "from sklearn.model_selection import train_test_split, GridSearchCV\n",
    "from sklearn.metrics import classification_report, confusion_matrix\n",
    "from sklearn.pipeline import Pipeline\n",
    "from sklearn.feature_extraction.text import CountVectorizer, TfidfVectorizer\n",
    "from sklearn.naive_bayes import MultinomialNB\n",
    "from sklearn.linear_model import LogisticRegression\n",
    "from sklearn.svm import LinearSVC\n",
    "import joblib\n",
    "import nltk, spacy, warnings\n",
    "warnings.filterwarnings('ignore')\n",
    "\n",
    "nltk.download('stopwords')\n",
    "from nltk.corpus import stopwords\n",
    "\n",
    "# spaCy Portuguese model\n",
    "try:\n",
    "    nlp = spacy.load('pt_core_news_sm')\n",
    "except OSError:\n",
    "    !python -m spacy download pt_core_news_sm\n",
    "    nlp = spacy.load('pt_core_news_sm')\n",
    "\n",
    "stop_words = set(stopwords.words('portuguese'))"
   ]
  },
  {
   "cell_type": "markdown",
   "id": "0739af14",
   "metadata": {},
   "source": [
    "## Data Ingestion"
   ]
  },
  {
   "cell_type": "code",
   "execution_count": null,
   "id": "f41dd195",
   "metadata": {
    "vscode": {
     "languageId": "plaintext"
    }
   },
   "outputs": [],
   "source": [
    "DATA_PATH = 'B2W-Reviews01.csv'\n",
    "\n",
    "df = pd.read_csv(DATA_PATH)\n",
    "print(f\"Shape before dropna: {df.shape}\")\n",
    "\n",
    "df = df.dropna(subset=['review_text'])\n",
    "print(f\"Shape after dropna: {df.shape}\")\n",
    "\n",
    "df.head()"
   ]
  },
  {
   "cell_type": "markdown",
   "id": "e22450d8",
   "metadata": {},
   "source": [
    "## Label Engineering"
   ]
  },
  {
   "cell_type": "code",
   "execution_count": null,
   "id": "b0929e29",
   "metadata": {
    "vscode": {
     "languageId": "plaintext"
    }
   },
   "outputs": [],
   "source": [
    "def rating_to_sentiment(r):\n",
    "    if r <= 2:\n",
    "        return 'neg'\n",
    "    elif r == 3:\n",
    "        return 'neu'\n",
    "    else:\n",
    "        return 'pos'\n",
    "\n",
    "if 'rating' in df.columns:\n",
    "    df['sentiment'] = df['rating'].apply(rating_to_sentiment)\n",
    "elif 'polarity' in df.columns:\n",
    "    df['sentiment'] = df['polarity']\n",
    "else:\n",
    "    raise KeyError('Coluna de rating/polarity não encontrada.')\n",
    "\n",
    "df['sentiment'].value_counts()"
   ]
  },
  {
   "cell_type": "markdown",
   "id": "a8ea7cd6",
   "metadata": {},
   "source": [
    "## Text Cleaning & Lemmatization"
   ]
  },
  {
   "cell_type": "code",
   "execution_count": null,
   "id": "c0bbc9ae",
   "metadata": {
    "vscode": {
     "languageId": "plaintext"
    }
   },
   "outputs": [],
   "source": [
    "def clean_text(text):\n",
    "    text = html.unescape(text)\n",
    "    text = re.sub('<.*?>', ' ', text)\n",
    "    text = re.sub(f'[{re.escape(string.punctuation)}]', ' ', text)\n",
    "    text = re.sub('\\\\d+', ' ', text)\n",
    "    text = text.lower()\n",
    "    tokens = [t for t in text.split() if t not in stop_words and len(t) > 2]\n",
    "    doc = nlp(' '.join(tokens))\n",
    "    lemmas = [tok.lemma_ for tok in doc if tok.lemma_ != '-PRON-']\n",
    "    return ' '.join(lemmas)\n",
    "\n",
    "df['clean_review'] = df['review_text'].astype(str).apply(clean_text)\n",
    "df[['review_text', 'clean_review']].head()"
   ]
  },
  {
   "cell_type": "markdown",
   "id": "c0a55dad",
   "metadata": {},
   "source": [
    "## Split"
   ]
  },
  {
   "cell_type": "code",
   "execution_count": null,
   "id": "365ab511",
   "metadata": {
    "vscode": {
     "languageId": "plaintext"
    }
   },
   "outputs": [],
   "source": [
    "X = df['clean_review']\n",
    "y = df['sentiment']\n",
    "X_train, X_test, y_train, y_test = train_test_split(\n",
    "    X, y, test_size=0.2, stratify=y, random_state=42)\n",
    "\n",
    "print(X_train.shape, X_test.shape)"
   ]
  },
  {
   "cell_type": "markdown",
   "id": "2286395f",
   "metadata": {},
   "source": [
    "## Define Pipelines"
   ]
  },
  {
   "cell_type": "code",
   "execution_count": null,
   "id": "268feaac",
   "metadata": {
    "vscode": {
     "languageId": "plaintext"
    }
   },
   "outputs": [],
   "source": [
    "pipelines = {\n",
    "    'NB_BoW': Pipeline([\n",
    "        ('vect', CountVectorizer(min_df=5)),\n",
    "        ('clf', MultinomialNB())\n",
    "    ]),\n",
    "    'LR_TFIDF': Pipeline([\n",
    "        ('tfidf', TfidfVectorizer(min_df=5, ngram_range=(1,2))),\n",
    "        ('clf', LogisticRegression(max_iter=200, n_jobs=-1, C=5.0))\n",
    "    ]),\n",
    "    'SVM_TFIDF': Pipeline([\n",
    "        ('tfidf', TfidfVectorizer(min_df=5, ngram_range=(1,2))),\n",
    "        ('clf', LinearSVC(C=1.0))\n",
    "    ])\n",
    "}"
   ]
  },
  {
   "cell_type": "markdown",
   "id": "dc7695d0",
   "metadata": {},
   "source": [
    "## Train & Evaluate Benchmarks"
   ]
  },
  {
   "cell_type": "code",
   "execution_count": null,
   "id": "e9cdbe7a",
   "metadata": {
    "vscode": {
     "languageId": "plaintext"
    }
   },
   "outputs": [],
   "source": [
    "results = {}\n",
    "for name, pipe in pipelines.items():\n",
    "    pipe.fit(X_train, y_train)\n",
    "    preds = pipe.predict(X_test)\n",
    "    report = classification_report(y_test, preds, output_dict=True)\n",
    "    results[name] = report['macro avg']['f1-score']\n",
    "    \n",
    "    print(f\"\\nModel: {name}\")\n",
    "    print(classification_report(y_test, preds))"
   ]
  },
  {
   "cell_type": "markdown",
   "id": "2e2edfa7",
   "metadata": {},
   "source": [
    "## Select Best"
   ]
  },
  {
   "cell_type": "code",
   "execution_count": null,
   "id": "87de7b60",
   "metadata": {
    "vscode": {
     "languageId": "plaintext"
    }
   },
   "outputs": [],
   "source": [
    "best_model_name = max(results, key=results.get)\n",
    "best_pipeline = pipelines[best_model_name]\n",
    "\n",
    "print(f\"Best baseline model: {best_model_name} | F1-macro = {results[best_model_name]:.3f}\")"
   ]
  },
  {
   "cell_type": "markdown",
   "id": "a45e4729",
   "metadata": {},
   "source": [
    "## Modelos (LightGBM + Word2Vec)"
   ]
  },
  {
   "cell_type": "code",
   "execution_count": null,
   "id": "2e15059d",
   "metadata": {
    "vscode": {
     "languageId": "plaintext"
    }
   },
   "outputs": [],
   "source": [
    "pip install gensim lightgbm optuna"
   ]
  },
  {
   "cell_type": "code",
   "execution_count": null,
   "id": "f94a6bd5",
   "metadata": {
    "vscode": {
     "languageId": "plaintext"
    }
   },
   "outputs": [],
   "source": [
    "from gensim.models import Word2Vec\n",
    "from sklearn.preprocessing import LabelEncoder\n",
    "from lightgbm import LGBMClassifier"
   ]
  },
  {
   "cell_type": "code",
   "execution_count": null,
   "id": "1f38e42b",
   "metadata": {
    "vscode": {
     "languageId": "plaintext"
    }
   },
   "outputs": [],
   "source": [
    "tok_corpus = [row.split() for row in X_train]\n",
    "w2v = Word2Vec(sentences=tok_corpus, vector_size=100, window=5, min_count=3, workers=4, epochs=10)\n",
    "\n",
    "def avg_w2v(sentence):\n",
    "    tokens = sentence.split()\n",
    "    vecs = [w2v.wv[t] for t in tokens if t in w2v.wv]\n",
    "    return np.mean(vecs, axis=0) if len(vecs) > 0 else np.zeros(100)\n",
    "\n",
    "X_train_w2v = np.vstack(X_train.apply(avg_w2v))\n",
    "X_test_w2v = np.vstack(X_test.apply(avg_w2v))\n",
    "\n",
    "le = LabelEncoder()\n",
    "y_train_enc = le.fit_transform(y_train)\n",
    "y_test_enc = le.transform(y_test)\n",
    "\n",
    "lgbm = LGBMClassifier(n_estimators=300, learning_rate=0.1, num_leaves=31)\n",
    "lgbm.fit(X_train_w2v, y_train_enc)\n",
    "preds = lgbm.predict(X_test_w2v)\n",
    "print(\"\\nLightGBM+Word2Vec\")\n",
    "print(classification_report(y_test_enc, preds, target_names=le.classes_))"
   ]
  },
  {
   "cell_type": "markdown",
   "id": "b23be440",
   "metadata": {},
   "source": [
    "## Persist Best Model"
   ]
  },
  {
   "cell_type": "code",
   "execution_count": null,
   "id": "13b63b06",
   "metadata": {
    "vscode": {
     "languageId": "plaintext"
    }
   },
   "outputs": [],
   "source": [
    "MODEL_PATH = 'sentiment_pipeline.joblib'\n",
    "joblib.dump(best_pipeline, MODEL_PATH)\n",
    "\n",
    "print(f\"Pipeline salvo em {MODEL_PATH}\")"
   ]
  },
  {
   "cell_type": "markdown",
   "id": "80dafab3",
   "metadata": {},
   "source": [
    "## Quick Inference"
   ]
  },
  {
   "cell_type": "code",
   "execution_count": null,
   "id": "81f6a43d",
   "metadata": {
    "vscode": {
     "languageId": "plaintext"
    }
   },
   "outputs": [],
   "source": [
    "sample_text = \"Entrega super rápida, produto de excelente qualidade. Recomendo!\"\n",
    "clean_sample = clean_text(sample_text)\n",
    "pred = best_pipeline.predict([clean_sample])[0]\n",
    "print(f\"Texto: {sample_text}\\nSentimento previsto: {pred}\")"
   ]
  }
 ],
 "metadata": {
  "language_info": {
   "name": "python"
  }
 },
 "nbformat": 4,
 "nbformat_minor": 5
}
